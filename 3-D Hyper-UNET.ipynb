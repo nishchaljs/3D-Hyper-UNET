{
  "nbformat": 4,
  "nbformat_minor": 0,
  "metadata": {
    "colab": {
      "name": "Mod_UNET3D_Hyperspectral",
      "provenance": []
    },
    "kernelspec": {
      "name": "python3",
      "display_name": "Python 3"
    },
    "language_info": {
      "name": "python"
    },
    "accelerator": "GPU"
  },
  "cells": [
    {
      "cell_type": "code",
      "metadata": {
        "colab": {
          "base_uri": "https://localhost:8080/",
          "height": 222
        },
        "id": "af5dMSsX9wG6",
        "outputId": "71da2641-e144-4129-ffb1-1b99fe95dd29"
      },
      "source": [
        "import keras\n",
        "from keras.layers import Conv2D, Conv3D, Flatten, Dense, Reshape, BatchNormalization\n",
        "from keras.layers import Dropout, Input\n",
        "from keras.models import Model\n",
        "from keras.optimizers import Adam\n",
        "from keras.callbacks import ModelCheckpoint\n",
        "from keras.utils import np_utils\n",
        "\n",
        "from sklearn.decomposition import PCA\n",
        "from sklearn.model_selection import train_test_split\n",
        "from sklearn.metrics import confusion_matrix, accuracy_score, classification_report, cohen_kappa_score\n",
        "\n",
        "from operator import truediv\n",
        "\n",
        "from plotly.offline import init_notebook_mode\n",
        "\n",
        "import numpy as np\n",
        "import matplotlib.pyplot as plt\n",
        "import scipy.io as sio\n",
        "import os\n",
        "!pip install spectral\n",
        "import spectral\n",
        "\n",
        "init_notebook_mode(connected=True)\n",
        "%matplotlib inline"
      ],
      "execution_count": null,
      "outputs": [
        {
          "output_type": "stream",
          "text": [
            "Collecting spectral\n",
            "\u001b[?25l  Downloading https://files.pythonhosted.org/packages/4f/9b/db2e160f891441b2f576e31caaa93c283ce5f82d625173830abd7ab3cbc3/spectral-0.22.2.tar.gz (184kB)\n",
            "\r\u001b[K     |█▉                              | 10kB 20.8MB/s eta 0:00:01\r\u001b[K     |███▋                            | 20kB 10.8MB/s eta 0:00:01\r\u001b[K     |█████▍                          | 30kB 8.4MB/s eta 0:00:01\r\u001b[K     |███████▏                        | 40kB 7.0MB/s eta 0:00:01\r\u001b[K     |█████████                       | 51kB 4.2MB/s eta 0:00:01\r\u001b[K     |██████████▊                     | 61kB 4.7MB/s eta 0:00:01\r\u001b[K     |████████████▌                   | 71kB 4.9MB/s eta 0:00:01\r\u001b[K     |██████████████▎                 | 81kB 5.1MB/s eta 0:00:01\r\u001b[K     |████████████████                | 92kB 5.0MB/s eta 0:00:01\r\u001b[K     |█████████████████▉              | 102kB 4.2MB/s eta 0:00:01\r\u001b[K     |███████████████████▋            | 112kB 4.2MB/s eta 0:00:01\r\u001b[K     |█████████████████████▍          | 122kB 4.2MB/s eta 0:00:01\r\u001b[K     |███████████████████████▏        | 133kB 4.2MB/s eta 0:00:01\r\u001b[K     |█████████████████████████       | 143kB 4.2MB/s eta 0:00:01\r\u001b[K     |██████████████████████████▊     | 153kB 4.2MB/s eta 0:00:01\r\u001b[K     |████████████████████████████▌   | 163kB 4.2MB/s eta 0:00:01\r\u001b[K     |██████████████████████████████▎ | 174kB 4.2MB/s eta 0:00:01\r\u001b[K     |████████████████████████████████| 184kB 4.2MB/s \n",
            "\u001b[?25hRequirement already satisfied: numpy in /usr/local/lib/python3.7/dist-packages (from spectral) (1.19.5)\n",
            "Building wheels for collected packages: spectral\n",
            "  Building wheel for spectral (setup.py) ... \u001b[?25l\u001b[?25hdone\n",
            "  Created wheel for spectral: filename=spectral-0.22.2-cp37-none-any.whl size=212938 sha256=f2ab8a2178213787febf755ff77d36fa6e7632f2dd56f5742485b2934d870155\n",
            "  Stored in directory: /root/.cache/pip/wheels/fb/00/da/ac778d1ab6e196cb7f56d104d4dfdfc0aad4e2b208275c0726\n",
            "Successfully built spectral\n",
            "Installing collected packages: spectral\n",
            "Successfully installed spectral-0.22.2\n"
          ],
          "name": "stdout"
        },
        {
          "output_type": "display_data",
          "data": {
            "text/html": [
              "        <script type=\"text/javascript\">\n",
              "        window.PlotlyConfig = {MathJaxConfig: 'local'};\n",
              "        if (window.MathJax) {MathJax.Hub.Config({SVG: {font: \"STIX-Web\"}});}\n",
              "        if (typeof require !== 'undefined') {\n",
              "        require.undef(\"plotly\");\n",
              "        requirejs.config({\n",
              "            paths: {\n",
              "                'plotly': ['https://cdn.plot.ly/plotly-latest.min']\n",
              "            }\n",
              "        });\n",
              "        require(['plotly'], function(Plotly) {\n",
              "            window._Plotly = Plotly;\n",
              "        });\n",
              "        }\n",
              "        </script>\n",
              "        "
            ]
          },
          "metadata": {
            "tags": []
          }
        }
      ]
    },
    {
      "cell_type": "code",
      "metadata": {
        "id": "r7rJKM-k98qH"
      },
      "source": [
        "## GLOBAL VARIABLES\n",
        "dataset = 'PU'\n",
        "test_ratio = 0.7\n",
        "windowSize = 25"
      ],
      "execution_count": null,
      "outputs": []
    },
    {
      "cell_type": "code",
      "metadata": {
        "id": "TWLz6jsC9-aY"
      },
      "source": [
        "def loadData(name):\n",
        "    data_path = os.path.join(os.getcwd(),'hsdata')\n",
        "    if name == 'IP':\n",
        "        data = sio.loadmat(os.path.join(data_path, 'Indian_pines_corrected.mat'))['indian_pines_corrected']\n",
        "        labels = sio.loadmat(os.path.join(data_path, 'Indian_pines_gt.mat'))['indian_pines_gt']\n",
        "    elif name == 'SA':\n",
        "        data = sio.loadmat(os.path.join(data_path, 'Salinas_corrected.mat'))['salinas_corrected']\n",
        "        labels = sio.loadmat(os.path.join(data_path, 'Salinas_gt.mat'))['salinas_gt']\n",
        "    elif name == 'PU':\n",
        "        data = sio.loadmat(os.path.join(data_path, 'PaviaU.mat'))['paviaU']\n",
        "        labels = sio.loadmat(os.path.join(data_path, 'PaviaU_gt.mat'))['paviaU_gt']\n",
        "    \n",
        "    return data, labels"
      ],
      "execution_count": null,
      "outputs": []
    },
    {
      "cell_type": "code",
      "metadata": {
        "id": "yenZFM2e-AqM"
      },
      "source": [
        "\n",
        "def splitTrainTestSet(X, y, testRatio, randomState=345):\n",
        "    X_train, X_test, y_train, y_test = train_test_split(X, y, test_size=testRatio, random_state=randomState,\n",
        "                                                        stratify=y)\n",
        "    return X_train, X_test, y_train, y_test"
      ],
      "execution_count": null,
      "outputs": []
    },
    {
      "cell_type": "code",
      "metadata": {
        "id": "AvRkfCds-CLM"
      },
      "source": [
        "def applyPCA(X, numComponents=75):\n",
        "    newX = np.reshape(X, (-1, X.shape[2]))\n",
        "    pca = PCA(n_components=numComponents, whiten=True)\n",
        "    newX = pca.fit_transform(newX)\n",
        "    newX = np.reshape(newX, (X.shape[0],X.shape[1], numComponents))\n",
        "    return newX, pca"
      ],
      "execution_count": null,
      "outputs": []
    },
    {
      "cell_type": "code",
      "metadata": {
        "id": "yJAR2biI-D2e"
      },
      "source": [
        "\n",
        "def padWithZeros(X, margin=2):\n",
        "    newX = np.zeros((X.shape[0] + 2 * margin, X.shape[1] + 2* margin, X.shape[2]))\n",
        "    x_offset = margin\n",
        "    y_offset = margin\n",
        "    newX[x_offset:X.shape[0] + x_offset, y_offset:X.shape[1] + y_offset, :] = X\n",
        "    return newX"
      ],
      "execution_count": null,
      "outputs": []
    },
    {
      "cell_type": "code",
      "metadata": {
        "id": "SSMY8o2p-Fag"
      },
      "source": [
        "def createImageCubes(X, y, windowSize=5, removeZeroLabels = True):\n",
        "    margin = int((windowSize - 1) / 2)\n",
        "    zeroPaddedX = padWithZeros(X, margin=margin)\n",
        "    # split patches\n",
        "    patchesData = np.zeros((X.shape[0] * X.shape[1], windowSize, windowSize, X.shape[2]))\n",
        "    patchesLabels = np.zeros((X.shape[0] * X.shape[1]))\n",
        "    patchIndex = 0\n",
        "    for r in range(margin, zeroPaddedX.shape[0] - margin):\n",
        "        for c in range(margin, zeroPaddedX.shape[1] - margin):\n",
        "            patch = zeroPaddedX[r - margin:r + margin + 1, c - margin:c + margin + 1]   \n",
        "            patchesData[patchIndex, :, :, :] = patch\n",
        "            patchesLabels[patchIndex] = y[r-margin, c-margin]\n",
        "            patchIndex = patchIndex + 1\n",
        "    if removeZeroLabels:\n",
        "        patchesData = patchesData[patchesLabels>0,:,:,:]\n",
        "        patchesLabels = patchesLabels[patchesLabels>0]\n",
        "        patchesLabels -= 1\n",
        "    return patchesData, patchesLabels"
      ],
      "execution_count": null,
      "outputs": []
    },
    {
      "cell_type": "code",
      "metadata": {
        "colab": {
          "base_uri": "https://localhost:8080/"
        },
        "id": "dOaXYRwZ-HGN",
        "outputId": "1ac18764-593e-49aa-c4f5-4fdca9d58023"
      },
      "source": [
        "X, y = loadData(dataset)\n",
        "\n",
        "X.shape, y.shape"
      ],
      "execution_count": null,
      "outputs": [
        {
          "output_type": "execute_result",
          "data": {
            "text/plain": [
              "((610, 340, 103), (610, 340))"
            ]
          },
          "metadata": {
            "tags": []
          },
          "execution_count": 51
        }
      ]
    },
    {
      "cell_type": "code",
      "metadata": {
        "colab": {
          "base_uri": "https://localhost:8080/"
        },
        "id": "lAjkTp99yqs4",
        "outputId": "bd7a9e39-815e-4730-b2ae-0e1515557ccc"
      },
      "source": [
        "one_hot.shape"
      ],
      "execution_count": null,
      "outputs": [
        {
          "output_type": "execute_result",
          "data": {
            "text/plain": [
              "(144, 144, 17)"
            ]
          },
          "metadata": {
            "tags": []
          },
          "execution_count": 21
        }
      ]
    },
    {
      "cell_type": "code",
      "metadata": {
        "id": "xCrU-OzExudw"
      },
      "source": [
        "n_classes = 10\n",
        "one_hot = np.zeros((144, 144, n_classes))\n",
        "for i, unique_value in enumerate(np.unique(y)):\n",
        "    one_hot[:, :, i][y == unique_value] = 1"
      ],
      "execution_count": null,
      "outputs": []
    },
    {
      "cell_type": "code",
      "metadata": {
        "colab": {
          "base_uri": "https://localhost:8080/"
        },
        "id": "FYdEZg9k-Ixq",
        "outputId": "ae9b0a54-bf31-4871-ebfd-6a4e51ae849e"
      },
      "source": [
        "K = 30 if dataset == 'IP' else 30\n",
        "X,pca = applyPCA(X,numComponents=K)\n",
        "\n",
        "X.shape"
      ],
      "execution_count": null,
      "outputs": [
        {
          "output_type": "execute_result",
          "data": {
            "text/plain": [
              "(144, 144, 30)"
            ]
          },
          "metadata": {
            "tags": []
          },
          "execution_count": 54
        }
      ]
    },
    {
      "cell_type": "code",
      "metadata": {
        "colab": {
          "base_uri": "https://localhost:8080/"
        },
        "id": "7u4OG7ZCOle_",
        "outputId": "d98b091b-9ff1-4365-ca2f-89ad8030f4b3"
      },
      "source": [
        "import cv2\n",
        "X = cv2.resize(X,(144,144))\n",
        "X.shape"
      ],
      "execution_count": null,
      "outputs": [
        {
          "output_type": "execute_result",
          "data": {
            "text/plain": [
              "(144, 144, 103)"
            ]
          },
          "metadata": {
            "tags": []
          },
          "execution_count": 52
        }
      ]
    },
    {
      "cell_type": "code",
      "metadata": {
        "colab": {
          "base_uri": "https://localhost:8080/"
        },
        "id": "CnrF28H0vB87",
        "outputId": "9636d6d3-d8f3-466c-e2b8-c5b241e6c7a3"
      },
      "source": [
        "import cv2\n",
        "y = cv2.resize(y,(144,144))\n",
        "y.shape"
      ],
      "execution_count": null,
      "outputs": [
        {
          "output_type": "execute_result",
          "data": {
            "text/plain": [
              "(144, 144)"
            ]
          },
          "metadata": {
            "tags": []
          },
          "execution_count": 53
        }
      ]
    },
    {
      "cell_type": "code",
      "metadata": {
        "id": "0BcdSMVmviDl"
      },
      "source": [
        "y = one_hot.reshape(1, 144, 144, 10)"
      ],
      "execution_count": null,
      "outputs": []
    },
    {
      "cell_type": "code",
      "metadata": {
        "colab": {
          "base_uri": "https://localhost:8080/"
        },
        "id": "mpaAzAZ9G10K",
        "outputId": "4e42dd1f-be86-40d7-d373-41b757e53e59"
      },
      "source": [
        "import cv2\n",
        "X_r = cv2.resize(X,(144,144))\n",
        "X_r.shape"
      ],
      "execution_count": null,
      "outputs": [
        {
          "output_type": "execute_result",
          "data": {
            "text/plain": [
              "(144, 144, 30)"
            ]
          },
          "metadata": {
            "tags": []
          },
          "execution_count": 32
        }
      ]
    },
    {
      "cell_type": "code",
      "metadata": {
        "id": "6rx___jXts0w"
      },
      "source": [
        "X_r = X.reshape(-1, 144, 144, 30, 1)"
      ],
      "execution_count": null,
      "outputs": []
    },
    {
      "cell_type": "code",
      "metadata": {
        "id": "M0kSX7BRAqtS"
      },
      "source": [
        "import os\n",
        "import tensorflow as tf\n",
        "from skimage.transform import resize\n",
        "from skimage.io import imsave\n",
        "import numpy as np\n",
        "from keras.preprocessing.image import ImageDataGenerator\n",
        "from keras.models import Model\n",
        "from keras.layers import Input, concatenate, Conv2D, MaxPooling3D, Conv3DTranspose, Flatten, Dense, BatchNormalization\n",
        "from keras.layers.core import Dropout\n",
        "from keras.optimizers import Adam,SGD\n",
        "from keras.callbacks import ModelCheckpoint\n",
        "from keras import backend as K\n",
        "def get_model():\n",
        "    inputs = Input((144, 144, 30, 1))\n",
        "    conv1 = Conv3D(32, (3, 3, 3), activation='relu', padding='same')(inputs)\n",
        "    conv1 = Conv3D(32, (3, 3, 3), activation='relu', padding='same')(conv1)\n",
        "    # conv1 = BatchNormalization()(conv1)\n",
        "    pool1 = MaxPooling3D(pool_size=(2, 2, 2))(conv1) #84\n",
        "\n",
        "    conv2 = Conv3D(64, (3, 3, 3), activation='relu', padding='same')(pool1)\n",
        "    conv2 = Conv3D(64, (3, 3, 3), activation='relu', padding='same')(conv2)\n",
        "    # conv2 = BatchNormalization()(conv2)\n",
        "    # conv2 = Dropout(0.1)(conv2)\n",
        "    pool2 = MaxPooling3D(pool_size=(2, 2, 2))(conv2) #42\n",
        "\n",
        "    conv3 = Conv3D(128, (3, 3, 3), activation='relu', padding='same')(pool2)\n",
        "    conv3 = Conv3D(128, (3, 3, 3), activation='relu', padding='same')(conv3)\n",
        "    # conv3 = BatchNormalization()(conv3)\n",
        "    # conv3 = Dropout(0.1)(conv3)\n",
        "    pool3 = MaxPooling3D(pool_size=(2, 2, 2))(conv3) #21\n",
        "\n",
        "    conv4 = Conv3D(256, (3, 3, 3), activation='relu', padding='same')(pool3)\n",
        "    conv4 = Conv3D(256, (3, 3, 3), activation='relu', padding='same')(conv4)\n",
        "    # conv4 = BatchNormalization()(conv4)\n",
        "    # conv4 = Dropout(0.1)(conv4)\n",
        "    # pool4 = MaxPooling3D(pool_size=(2, 2, 2))(conv4) #7\n",
        "\n",
        "    # conv5 = Conv3D(512, (3, 3, 3), activation='relu', padding='same')(pool4)\n",
        "    # conv5 = Conv3D(512, (3, 3, 3), activation='relu', padding='same')(conv5)\n",
        "#     conv5 = BatchNormalization()(conv5)\n",
        "#     conv5 = Dropout(0.2)(conv5)\n",
        "    #pool5 = MaxPooling2D(pool_size=(2, 2))(conv5)\n",
        "    \n",
        "#     conv6 = Conv2D(1024, (3, 3), activation='relu', padding='same')(conv5)\n",
        "#     conv6 = Conv2D(1024, (3, 3), activation='relu', padding='same')(conv6)\n",
        "    \n",
        "    flat6 = Flatten()(conv4)\n",
        "    output_1 = Dense(9, activation='softmax', name='output_1')(flat6)\n",
        "\n",
        "#     up7 = concatenate([Conv2DTranspose(512, (2, 2), padding='same')(conv6), conv5], axis=3)\n",
        "#     conv7 = Conv2D(512, (3, 3), activation='relu', padding='same')(up7)\n",
        "#     conv7 = Conv2D(512, (3, 3), activation='relu', padding='same')(conv7)\n",
        "    \n",
        "    # up8 = concatenate([Conv3DTranspose(256, (2, 2, 2), strides=(2, 2, 2), padding='same')(conv5), conv4], axis=3)\n",
        "    # conv8 = Conv3D(256, (3, 3, 3), activation='relu', padding='same')(up8)\n",
        "    # conv8 = Conv3D(256, (3, 3, 3), activation='relu', padding='same')(conv8)\n",
        "#     conv8 = BatchNormalization()(conv8)\n",
        "#     conv8 = Dropout(0.2)(conv8)\n",
        "\n",
        "    up9 = concatenate([Conv3DTranspose(128, (2, 2, 2), strides=(2, 2, 2), padding='same')(conv4), conv3], axis=3)\n",
        "    conv9 = Conv3D(128, (3, 3, 3), activation='relu', padding='same')(up9)\n",
        "    conv9 = Conv3D(128, (3, 3, 3), activation='relu', padding='same')(conv9)\n",
        "    # conv9 = BatchNormalization()(conv9)\n",
        "    # conv9 = Dropout(0.1)(conv9)\n",
        "\n",
        "    up10 = concatenate([Conv3DTranspose(64, (2, 2,2 ), strides=(2, 2, 2), padding='same')(conv9), conv2], axis=3)\n",
        "    conv10 = Conv3D(64, (3, 3, 3), activation='relu', padding='same')(up10)\n",
        "    conv10 = Conv3D(64, (3, 3, 3), activation='relu', padding='same')(conv10)\n",
        "    # conv10 = BatchNormalization()(conv10)\n",
        "    # conv10 = Dropout(0.1)(conv10)\n",
        "\n",
        "    up11 = concatenate([Conv3DTranspose(32, (2, 2, 2), strides=(2,2, 2), padding='same')(conv10), conv1], axis=3)\n",
        "    conv11 = Conv3D(32, (3, 3, 3), activation='relu', padding='same')(up11)\n",
        "    conv11 = Conv3D(32, (3, 3, 3), activation='relu', padding='same')(conv11)\n",
        "\n",
        "    conv3d_shape = conv11.shape\n",
        "\n",
        "    conv11 = Reshape((conv3d_shape[1], conv3d_shape[2], conv3d_shape[3]*conv3d_shape[4]))(conv11)\n",
        "\n",
        "    output_2 = Conv2D(10, (1, 1), activation='softmax', name='output_2')(conv11)\n",
        "\n",
        "    model = Model(inputs=[inputs], outputs=[ output_2])\n",
        "\n",
        "    model.compile(optimizer=Adam(lr=0.001), loss={'output_2': 'categorical_crossentropy'}, metrics=[tf.keras.metrics.MeanIoU(num_classes=17)])\n",
        "\n",
        "    return model"
      ],
      "execution_count": null,
      "outputs": []
    },
    {
      "cell_type": "code",
      "metadata": {
        "colab": {
          "base_uri": "https://localhost:8080/"
        },
        "id": "bUDJoYWvAtQj",
        "outputId": "6af89aa7-f675-4690-ae49-63fec35b0d1f"
      },
      "source": [
        "model = get_model()\n",
        "model.summary()"
      ],
      "execution_count": null,
      "outputs": [
        {
          "output_type": "stream",
          "text": [
            "Model: \"model_2\"\n",
            "__________________________________________________________________________________________________\n",
            "Layer (type)                    Output Shape         Param #     Connected to                     \n",
            "==================================================================================================\n",
            "input_3 (InputLayer)            [(None, 144, 144, 30 0                                            \n",
            "__________________________________________________________________________________________________\n",
            "conv3d_28 (Conv3D)              (None, 144, 144, 30, 896         input_3[0][0]                    \n",
            "__________________________________________________________________________________________________\n",
            "conv3d_29 (Conv3D)              (None, 144, 144, 30, 27680       conv3d_28[0][0]                  \n",
            "__________________________________________________________________________________________________\n",
            "max_pooling3d_6 (MaxPooling3D)  (None, 72, 72, 15, 3 0           conv3d_29[0][0]                  \n",
            "__________________________________________________________________________________________________\n",
            "conv3d_30 (Conv3D)              (None, 72, 72, 15, 6 55360       max_pooling3d_6[0][0]            \n",
            "__________________________________________________________________________________________________\n",
            "conv3d_31 (Conv3D)              (None, 72, 72, 15, 6 110656      conv3d_30[0][0]                  \n",
            "__________________________________________________________________________________________________\n",
            "max_pooling3d_7 (MaxPooling3D)  (None, 36, 36, 7, 64 0           conv3d_31[0][0]                  \n",
            "__________________________________________________________________________________________________\n",
            "conv3d_32 (Conv3D)              (None, 36, 36, 7, 12 221312      max_pooling3d_7[0][0]            \n",
            "__________________________________________________________________________________________________\n",
            "conv3d_33 (Conv3D)              (None, 36, 36, 7, 12 442496      conv3d_32[0][0]                  \n",
            "__________________________________________________________________________________________________\n",
            "max_pooling3d_8 (MaxPooling3D)  (None, 18, 18, 3, 12 0           conv3d_33[0][0]                  \n",
            "__________________________________________________________________________________________________\n",
            "conv3d_34 (Conv3D)              (None, 18, 18, 3, 25 884992      max_pooling3d_8[0][0]            \n",
            "__________________________________________________________________________________________________\n",
            "conv3d_35 (Conv3D)              (None, 18, 18, 3, 25 1769728     conv3d_34[0][0]                  \n",
            "__________________________________________________________________________________________________\n",
            "conv3d_transpose_6 (Conv3DTrans (None, 36, 36, 6, 12 262272      conv3d_35[0][0]                  \n",
            "__________________________________________________________________________________________________\n",
            "concatenate_6 (Concatenate)     (None, 36, 36, 13, 1 0           conv3d_transpose_6[0][0]         \n",
            "                                                                 conv3d_33[0][0]                  \n",
            "__________________________________________________________________________________________________\n",
            "conv3d_36 (Conv3D)              (None, 36, 36, 13, 1 442496      concatenate_6[0][0]              \n",
            "__________________________________________________________________________________________________\n",
            "conv3d_37 (Conv3D)              (None, 36, 36, 13, 1 442496      conv3d_36[0][0]                  \n",
            "__________________________________________________________________________________________________\n",
            "conv3d_transpose_7 (Conv3DTrans (None, 72, 72, 26, 6 65600       conv3d_37[0][0]                  \n",
            "__________________________________________________________________________________________________\n",
            "concatenate_7 (Concatenate)     (None, 72, 72, 41, 6 0           conv3d_transpose_7[0][0]         \n",
            "                                                                 conv3d_31[0][0]                  \n",
            "__________________________________________________________________________________________________\n",
            "conv3d_38 (Conv3D)              (None, 72, 72, 41, 6 110656      concatenate_7[0][0]              \n",
            "__________________________________________________________________________________________________\n",
            "conv3d_39 (Conv3D)              (None, 72, 72, 41, 6 110656      conv3d_38[0][0]                  \n",
            "__________________________________________________________________________________________________\n",
            "conv3d_transpose_8 (Conv3DTrans (None, 144, 144, 82, 16416       conv3d_39[0][0]                  \n",
            "__________________________________________________________________________________________________\n",
            "concatenate_8 (Concatenate)     (None, 144, 144, 112 0           conv3d_transpose_8[0][0]         \n",
            "                                                                 conv3d_29[0][0]                  \n",
            "__________________________________________________________________________________________________\n",
            "conv3d_40 (Conv3D)              (None, 144, 144, 112 27680       concatenate_8[0][0]              \n",
            "__________________________________________________________________________________________________\n",
            "conv3d_41 (Conv3D)              (None, 144, 144, 112 27680       conv3d_40[0][0]                  \n",
            "__________________________________________________________________________________________________\n",
            "reshape_2 (Reshape)             (None, 144, 144, 358 0           conv3d_41[0][0]                  \n",
            "__________________________________________________________________________________________________\n",
            "output_2 (Conv2D)               (None, 144, 144, 10) 35850       reshape_2[0][0]                  \n",
            "==================================================================================================\n",
            "Total params: 5,054,922\n",
            "Trainable params: 5,054,922\n",
            "Non-trainable params: 0\n",
            "__________________________________________________________________________________________________\n"
          ],
          "name": "stdout"
        }
      ]
    },
    {
      "cell_type": "code",
      "metadata": {
        "colab": {
          "base_uri": "https://localhost:8080/"
        },
        "id": "TT5NlCGS-c4M",
        "outputId": "a4508d85-99f3-4d21-f445-405c316b40e9"
      },
      "source": [
        "model.fit(x=X_r, y=y, batch_size=1, epochs=100) #400"
      ],
      "execution_count": null,
      "outputs": [
        {
          "output_type": "stream",
          "text": [
            "Epoch 1/100\n",
            "1/1 [==============================] - 1s 631ms/step - loss: 0.0507 - mean_io_u_1: 0.4813\n",
            "Epoch 2/100\n",
            "1/1 [==============================] - 1s 628ms/step - loss: 0.0461 - mean_io_u_1: 0.4788\n",
            "Epoch 3/100\n",
            "1/1 [==============================] - 1s 628ms/step - loss: 0.0443 - mean_io_u_1: 0.4816\n",
            "Epoch 4/100\n",
            "1/1 [==============================] - 1s 631ms/step - loss: 0.0394 - mean_io_u_1: 0.4911\n",
            "Epoch 5/100\n",
            "1/1 [==============================] - 1s 628ms/step - loss: 0.0361 - mean_io_u_1: 0.4876\n",
            "Epoch 6/100\n",
            "1/1 [==============================] - 1s 629ms/step - loss: 0.0325 - mean_io_u_1: 0.4943\n",
            "Epoch 7/100\n",
            "1/1 [==============================] - 1s 627ms/step - loss: 0.0299 - mean_io_u_1: 0.5065\n",
            "Epoch 8/100\n",
            "1/1 [==============================] - 1s 627ms/step - loss: 0.0271 - mean_io_u_1: 0.5010\n",
            "Epoch 9/100\n",
            "1/1 [==============================] - 1s 629ms/step - loss: 0.0243 - mean_io_u_1: 0.5076\n",
            "Epoch 10/100\n",
            "1/1 [==============================] - 1s 628ms/step - loss: 0.0227 - mean_io_u_1: 0.5144\n",
            "Epoch 11/100\n",
            "1/1 [==============================] - 1s 628ms/step - loss: 0.0203 - mean_io_u_1: 0.5130\n",
            "Epoch 12/100\n",
            "1/1 [==============================] - 1s 627ms/step - loss: 0.0183 - mean_io_u_1: 0.5229\n",
            "Epoch 13/100\n",
            "1/1 [==============================] - 1s 628ms/step - loss: 0.0161 - mean_io_u_1: 0.5293\n",
            "Epoch 14/100\n",
            "1/1 [==============================] - 1s 627ms/step - loss: 0.0148 - mean_io_u_1: 0.5301\n",
            "Epoch 15/100\n",
            "1/1 [==============================] - 1s 633ms/step - loss: 0.0131 - mean_io_u_1: 0.5402\n",
            "Epoch 16/100\n",
            "1/1 [==============================] - 1s 629ms/step - loss: 0.0116 - mean_io_u_1: 0.5448\n",
            "Epoch 17/100\n",
            "1/1 [==============================] - 1s 627ms/step - loss: 0.0104 - mean_io_u_1: 0.5469\n",
            "Epoch 18/100\n",
            "1/1 [==============================] - 1s 628ms/step - loss: 0.0092 - mean_io_u_1: 0.5556\n",
            "Epoch 19/100\n",
            "1/1 [==============================] - 1s 628ms/step - loss: 0.0082 - mean_io_u_1: 0.5619\n",
            "Epoch 20/100\n",
            "1/1 [==============================] - 1s 627ms/step - loss: 0.0071 - mean_io_u_1: 0.5657\n",
            "Epoch 21/100\n",
            "1/1 [==============================] - 1s 627ms/step - loss: 0.0063 - mean_io_u_1: 0.5733\n",
            "Epoch 22/100\n",
            "1/1 [==============================] - 1s 629ms/step - loss: 0.0056 - mean_io_u_1: 0.5795\n",
            "Epoch 23/100\n",
            "1/1 [==============================] - 1s 630ms/step - loss: 0.0048 - mean_io_u_1: 0.5815\n",
            "Epoch 24/100\n",
            "1/1 [==============================] - 1s 628ms/step - loss: 0.0043 - mean_io_u_1: 0.5872\n",
            "Epoch 25/100\n",
            "1/1 [==============================] - 1s 628ms/step - loss: 0.0038 - mean_io_u_1: 0.5972\n",
            "Epoch 26/100\n",
            "1/1 [==============================] - 1s 629ms/step - loss: 0.0034 - mean_io_u_1: 0.6019\n",
            "Epoch 27/100\n",
            "1/1 [==============================] - 1s 632ms/step - loss: 0.0030 - mean_io_u_1: 0.6025\n",
            "Epoch 28/100\n",
            "1/1 [==============================] - 1s 628ms/step - loss: 0.0026 - mean_io_u_1: 0.6066\n",
            "Epoch 29/100\n",
            "1/1 [==============================] - 1s 631ms/step - loss: 0.0024 - mean_io_u_1: 0.6148\n",
            "Epoch 30/100\n",
            "1/1 [==============================] - 1s 628ms/step - loss: 0.0021 - mean_io_u_1: 0.6194\n",
            "Epoch 31/100\n",
            "1/1 [==============================] - 1s 628ms/step - loss: 0.0019 - mean_io_u_1: 0.6218\n",
            "Epoch 32/100\n",
            "1/1 [==============================] - 1s 628ms/step - loss: 0.0017 - mean_io_u_1: 0.6256\n",
            "Epoch 33/100\n",
            "1/1 [==============================] - 1s 628ms/step - loss: 0.0015 - mean_io_u_1: 0.6326\n",
            "Epoch 34/100\n",
            "1/1 [==============================] - 1s 629ms/step - loss: 0.0014 - mean_io_u_1: 0.6390\n",
            "Epoch 35/100\n",
            "1/1 [==============================] - 1s 630ms/step - loss: 0.0013 - mean_io_u_1: 0.6422\n",
            "Epoch 36/100\n",
            "1/1 [==============================] - 1s 629ms/step - loss: 0.0011 - mean_io_u_1: 0.6437\n",
            "Epoch 37/100\n",
            "1/1 [==============================] - 1s 627ms/step - loss: 0.0011 - mean_io_u_1: 0.6454\n",
            "Epoch 38/100\n",
            "1/1 [==============================] - 1s 630ms/step - loss: 9.6951e-04 - mean_io_u_1: 0.6485\n",
            "Epoch 39/100\n",
            "1/1 [==============================] - 1s 626ms/step - loss: 8.8787e-04 - mean_io_u_1: 0.6530\n",
            "Epoch 40/100\n",
            "1/1 [==============================] - 1s 627ms/step - loss: 8.1847e-04 - mean_io_u_1: 0.6577\n",
            "Epoch 41/100\n",
            "1/1 [==============================] - 1s 627ms/step - loss: 7.5824e-04 - mean_io_u_1: 0.6612\n",
            "Epoch 42/100\n",
            "1/1 [==============================] - 1s 626ms/step - loss: 7.0330e-04 - mean_io_u_1: 0.6632\n",
            "Epoch 43/100\n",
            "1/1 [==============================] - 1s 627ms/step - loss: 6.5372e-04 - mean_io_u_1: 0.6641\n",
            "Epoch 44/100\n",
            "1/1 [==============================] - 1s 627ms/step - loss: 6.0905e-04 - mean_io_u_1: 0.6656\n",
            "Epoch 45/100\n",
            "1/1 [==============================] - 1s 627ms/step - loss: 5.6986e-04 - mean_io_u_1: 0.6676\n",
            "Epoch 46/100\n",
            "1/1 [==============================] - 1s 628ms/step - loss: 5.3601e-04 - mean_io_u_1: 0.6698\n",
            "Epoch 47/100\n",
            "1/1 [==============================] - 1s 627ms/step - loss: 5.0499e-04 - mean_io_u_1: 0.6725\n",
            "Epoch 48/100\n",
            "1/1 [==============================] - 1s 629ms/step - loss: 4.7534e-04 - mean_io_u_1: 0.6747\n",
            "Epoch 49/100\n",
            "1/1 [==============================] - 1s 631ms/step - loss: 4.4807e-04 - mean_io_u_1: 0.6767\n",
            "Epoch 50/100\n",
            "1/1 [==============================] - 1s 629ms/step - loss: 4.2450e-04 - mean_io_u_1: 0.6778\n",
            "Epoch 51/100\n",
            "1/1 [==============================] - 1s 627ms/step - loss: 4.0374e-04 - mean_io_u_1: 0.6791\n",
            "Epoch 52/100\n",
            "1/1 [==============================] - 1s 628ms/step - loss: 3.8387e-04 - mean_io_u_1: 0.6806\n",
            "Epoch 53/100\n",
            "1/1 [==============================] - 1s 631ms/step - loss: 3.6450e-04 - mean_io_u_1: 0.6827\n",
            "Epoch 54/100\n",
            "1/1 [==============================] - 1s 626ms/step - loss: 3.4688e-04 - mean_io_u_1: 0.6849\n",
            "Epoch 55/100\n",
            "1/1 [==============================] - 1s 628ms/step - loss: 3.3157e-04 - mean_io_u_1: 0.6869\n",
            "Epoch 56/100\n",
            "1/1 [==============================] - 1s 629ms/step - loss: 3.1781e-04 - mean_io_u_1: 0.6884\n",
            "Epoch 57/100\n",
            "1/1 [==============================] - 1s 627ms/step - loss: 3.0477e-04 - mean_io_u_1: 0.6898\n",
            "Epoch 58/100\n",
            "1/1 [==============================] - 1s 628ms/step - loss: 2.9237e-04 - mean_io_u_1: 0.6910\n",
            "Epoch 59/100\n",
            "1/1 [==============================] - 1s 629ms/step - loss: 2.8087e-04 - mean_io_u_1: 0.6918\n",
            "Epoch 60/100\n",
            "1/1 [==============================] - 1s 629ms/step - loss: 2.7039e-04 - mean_io_u_1: 0.6926\n",
            "Epoch 61/100\n",
            "1/1 [==============================] - 1s 629ms/step - loss: 2.6070e-04 - mean_io_u_1: 0.6935\n",
            "Epoch 62/100\n",
            "1/1 [==============================] - 1s 629ms/step - loss: 2.5162e-04 - mean_io_u_1: 0.6950\n",
            "Epoch 63/100\n",
            "1/1 [==============================] - 1s 628ms/step - loss: 2.4312e-04 - mean_io_u_1: 0.6964\n",
            "Epoch 64/100\n",
            "1/1 [==============================] - 1s 627ms/step - loss: 2.3528e-04 - mean_io_u_1: 0.6979\n",
            "Epoch 65/100\n",
            "1/1 [==============================] - 1s 628ms/step - loss: 2.2806e-04 - mean_io_u_1: 0.6992\n",
            "Epoch 66/100\n",
            "1/1 [==============================] - 1s 630ms/step - loss: 2.2126e-04 - mean_io_u_1: 0.7001\n",
            "Epoch 67/100\n",
            "1/1 [==============================] - 1s 628ms/step - loss: 2.1478e-04 - mean_io_u_1: 0.7010\n",
            "Epoch 68/100\n",
            "1/1 [==============================] - 1s 627ms/step - loss: 2.0859e-04 - mean_io_u_1: 0.7015\n",
            "Epoch 69/100\n",
            "1/1 [==============================] - 1s 628ms/step - loss: 2.0276e-04 - mean_io_u_1: 0.7022\n",
            "Epoch 70/100\n",
            "1/1 [==============================] - 1s 627ms/step - loss: 1.9730e-04 - mean_io_u_1: 0.7029\n",
            "Epoch 71/100\n",
            "1/1 [==============================] - 1s 627ms/step - loss: 1.9219e-04 - mean_io_u_1: 0.7036\n",
            "Epoch 72/100\n",
            "1/1 [==============================] - 1s 627ms/step - loss: 1.8736e-04 - mean_io_u_1: 0.7041\n",
            "Epoch 73/100\n",
            "1/1 [==============================] - 1s 630ms/step - loss: 1.8278e-04 - mean_io_u_1: 0.7051\n",
            "Epoch 74/100\n",
            "1/1 [==============================] - 1s 628ms/step - loss: 1.7842e-04 - mean_io_u_1: 0.7061\n",
            "Epoch 75/100\n",
            "1/1 [==============================] - 1s 627ms/step - loss: 1.7426e-04 - mean_io_u_1: 0.7072\n",
            "Epoch 76/100\n",
            "1/1 [==============================] - 1s 629ms/step - loss: 1.7027e-04 - mean_io_u_1: 0.7080\n",
            "Epoch 77/100\n",
            "1/1 [==============================] - 1s 627ms/step - loss: 1.6647e-04 - mean_io_u_1: 0.7087\n",
            "Epoch 78/100\n",
            "1/1 [==============================] - 1s 627ms/step - loss: 1.6287e-04 - mean_io_u_1: 0.7091\n",
            "Epoch 79/100\n",
            "1/1 [==============================] - 1s 632ms/step - loss: 1.5943e-04 - mean_io_u_1: 0.7095\n",
            "Epoch 80/100\n",
            "1/1 [==============================] - 1s 628ms/step - loss: 1.5614e-04 - mean_io_u_1: 0.7102\n",
            "Epoch 81/100\n",
            "1/1 [==============================] - 1s 627ms/step - loss: 1.5297e-04 - mean_io_u_1: 0.7107\n",
            "Epoch 82/100\n",
            "1/1 [==============================] - 1s 635ms/step - loss: 1.4994e-04 - mean_io_u_1: 0.7114\n",
            "Epoch 83/100\n",
            "1/1 [==============================] - 1s 627ms/step - loss: 1.4705e-04 - mean_io_u_1: 0.7119\n",
            "Epoch 84/100\n",
            "1/1 [==============================] - 1s 627ms/step - loss: 1.4429e-04 - mean_io_u_1: 0.7124\n",
            "Epoch 85/100\n",
            "1/1 [==============================] - 1s 630ms/step - loss: 1.4162e-04 - mean_io_u_1: 0.7129\n",
            "Epoch 86/100\n",
            "1/1 [==============================] - 1s 628ms/step - loss: 1.3903e-04 - mean_io_u_1: 0.7136\n",
            "Epoch 87/100\n",
            "1/1 [==============================] - 1s 627ms/step - loss: 1.3653e-04 - mean_io_u_1: 0.7142\n",
            "Epoch 88/100\n",
            "1/1 [==============================] - 1s 629ms/step - loss: 1.3412e-04 - mean_io_u_1: 0.7147\n",
            "Epoch 89/100\n",
            "1/1 [==============================] - 1s 629ms/step - loss: 1.3181e-04 - mean_io_u_1: 0.7153\n",
            "Epoch 90/100\n",
            "1/1 [==============================] - 1s 627ms/step - loss: 1.2958e-04 - mean_io_u_1: 0.7158\n",
            "Epoch 91/100\n",
            "1/1 [==============================] - 1s 627ms/step - loss: 1.2741e-04 - mean_io_u_1: 0.7162\n",
            "Epoch 92/100\n",
            "1/1 [==============================] - 1s 630ms/step - loss: 1.2532e-04 - mean_io_u_1: 0.7167\n",
            "Epoch 93/100\n",
            "1/1 [==============================] - 1s 627ms/step - loss: 1.2328e-04 - mean_io_u_1: 0.7173\n",
            "Epoch 94/100\n",
            "1/1 [==============================] - 1s 628ms/step - loss: 1.2132e-04 - mean_io_u_1: 0.7176\n",
            "Epoch 95/100\n",
            "1/1 [==============================] - 1s 632ms/step - loss: 1.1941e-04 - mean_io_u_1: 0.7181\n",
            "Epoch 96/100\n",
            "1/1 [==============================] - 1s 628ms/step - loss: 1.1756e-04 - mean_io_u_1: 0.7187\n",
            "Epoch 97/100\n",
            "1/1 [==============================] - 1s 628ms/step - loss: 1.1577e-04 - mean_io_u_1: 0.7191\n",
            "Epoch 98/100\n",
            "1/1 [==============================] - 1s 627ms/step - loss: 1.1402e-04 - mean_io_u_1: 0.7194\n",
            "Epoch 99/100\n",
            "1/1 [==============================] - 1s 630ms/step - loss: 1.1233e-04 - mean_io_u_1: 0.7198\n",
            "Epoch 100/100\n",
            "1/1 [==============================] - 1s 629ms/step - loss: 1.1069e-04 - mean_io_u_1: 0.7204\n"
          ],
          "name": "stdout"
        },
        {
          "output_type": "execute_result",
          "data": {
            "text/plain": [
              "<tensorflow.python.keras.callbacks.History at 0x7ff84a253490>"
            ]
          },
          "metadata": {
            "tags": []
          },
          "execution_count": 73
        }
      ]
    },
    {
      "cell_type": "code",
      "metadata": {
        "id": "MDWK_DHcUMsM"
      },
      "source": [
        "#Iterations - 400  loss - 0.0940  accuracy - 0.9735 - V1\n",
        "#Iterations - 400  loss - 0.0698  mean_io_u_1 - 0.5650 (0.6999816) - V2\n",
        "#Iterations - 400"
      ],
      "execution_count": null,
      "outputs": []
    },
    {
      "cell_type": "code",
      "metadata": {
        "id": "tLkfPV8_-pN2"
      },
      "source": [
        "y_pred = model.predict(X_r)"
      ],
      "execution_count": null,
      "outputs": []
    },
    {
      "cell_type": "code",
      "metadata": {
        "id": "dpq4Woev2ysS"
      },
      "source": [
        "mask_pred = np.zeros((144, 144))\n",
        "for i in range(144):\n",
        "  for j in range(144):\n",
        "    index = np.argmax(y_pred[0][i][j])\n",
        "    if y_pred[0][i][j][index]<0.85:\n",
        "      mask_pred[i][j] = 0\n",
        "    else:\n",
        "      mask_pred[i][j] = np.argmax(y_pred[0][i][j])"
      ],
      "execution_count": null,
      "outputs": []
    },
    {
      "cell_type": "code",
      "metadata": {
        "id": "r5xZF2hF4rWh"
      },
      "source": [
        "X_k, y_truth = loadData(dataset)\n",
        "\n",
        "y_truth.shape\n",
        "y_truth = cv2.resize( y_truth, (144, 144))"
      ],
      "execution_count": null,
      "outputs": []
    },
    {
      "cell_type": "code",
      "metadata": {
        "colab": {
          "base_uri": "https://localhost:8080/",
          "height": 521
        },
        "id": "tyEHGpIr4_F7",
        "outputId": "4f5bec05-f883-4d09-8dd9-173243e5a177"
      },
      "source": [
        "import matplotlib.pyplot as plt\n",
        "plt.imshow(y_truth)\n",
        "plt.show()\n",
        "plt.imshow(mask_pred)\n",
        "plt.show()"
      ],
      "execution_count": null,
      "outputs": [
        {
          "output_type": "display_data",
          "data": {
            "image/png": "[encoded data removed]",
            "text/plain": [
              "<Figure size 432x288 with 1 Axes>"
            ]
          },
          "metadata": {
            "tags": [],
            "needs_background": "light"
          }
        },
        {
          "output_type": "display_data",
          "data": {
            "image/png": "[encoded data removed]",
            "text/plain": [
              "<Figure size 432x288 with 1 Axes>"
            ]
          },
          "metadata": {
            "tags": [],
            "needs_background": "light"
          }
        }
      ]
    },
    {
      "cell_type": "code",
      "metadata": {
        "id": "KSgxhKBd5REQ"
      },
      "source": [
        "model.save('3DUnet_v2.hdf5')"
      ],
      "execution_count": null,
      "outputs": []
    },
    {
      "cell_type": "code",
      "metadata": {
        "id": "LkJWJU4V_a7v"
      },
      "source": [
        "intersection = np.logical_and(y_truth, mask_pred)\n",
        "union = np.logical_or(y_truth, mask_pred)\n",
        "iou_score = np.sum(intersection) / np.sum(union)"
      ],
      "execution_count": null,
      "outputs": []
    },
    {
      "cell_type": "code",
      "metadata": {
        "colab": {
          "base_uri": "https://localhost:8080/"
        },
        "id": "Kqbjf9XWceqW",
        "outputId": "a6d9a8f9-0042-4b61-9e75-451b20137cb4"
      },
      "source": [
        "iou_score"
      ],
      "execution_count": null,
      "outputs": [
        {
          "output_type": "execute_result",
          "data": {
            "text/plain": [
              "0.8035206258890469"
            ]
          },
          "metadata": {
            "tags": []
          },
          "execution_count": 89
        }
      ]
    }
  ]
}